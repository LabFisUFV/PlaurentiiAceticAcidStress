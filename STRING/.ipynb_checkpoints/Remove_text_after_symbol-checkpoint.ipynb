{
 "cells": [
  {
   "cell_type": "code",
   "execution_count": 1,
   "id": "d3fb6ece-0006-4f90-ba26-a62beebe9160",
   "metadata": {
    "tags": []
   },
   "outputs": [],
   "source": [
    "\n",
    "\n",
    "def remove_text_after_pipe(input_file, output_file):\n",
    "    with open(input_file, 'r') as infile, open(output_file, 'w') as outfile:\n",
    "        for line in infile:\n",
    "            if line.startswith('>'):\n",
    "                header_parts = line[1:].split('|', 1)  # Split the header at the first '|'\n",
    "                header = '>' + header_parts[0].strip()  # Reconstruct the header without text after '|'\n",
    "                outfile.write(header + '\\n')\n",
    "            else:\n",
    "                outfile.write(line)\n",
    "\n",
    "# Example usage\n",
    "input_file_path = 'P_laurentii_JGI_Protein.fasta'  # Replace with your input file path\n",
    "output_file_path = 'output.fasta'  # Replace with your desired output file path\n",
    "\n",
    "remove_text_after_pipe(input_file_path, output_file_path)\n"
   ]
  },
  {
   "cell_type": "code",
   "execution_count": null,
   "id": "a6b8a00c-fab3-4bda-becc-5c65510b4b3f",
   "metadata": {},
   "outputs": [],
   "source": []
  }
 ],
 "metadata": {
  "kernelspec": {
   "display_name": "Python 3 (ipykernel)",
   "language": "python",
   "name": "python3"
  },
  "language_info": {
   "codemirror_mode": {
    "name": "ipython",
    "version": 3
   },
   "file_extension": ".py",
   "mimetype": "text/x-python",
   "name": "python",
   "nbconvert_exporter": "python",
   "pygments_lexer": "ipython3",
   "version": "3.11.3"
  }
 },
 "nbformat": 4,
 "nbformat_minor": 5
}
